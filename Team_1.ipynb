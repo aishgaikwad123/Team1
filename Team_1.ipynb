{
 "cells": [
  {
   "cell_type": "code",
   "execution_count": 3,
   "id": "e77fdea0",
   "metadata": {},
   "outputs": [
    {
     "name": "stdout",
     "output_type": "stream",
     "text": [
      "Enter a number: 2\n",
      "The square root of 2.0 is 1.4142135623730951\n"
     ]
    }
   ],
   "source": [
    "#1\n",
    "n = float(input('Enter a number: '))\n",
    "n_sqrt = n ** 0.5\n",
    "print('The square root of {0} is {1}'.format(n ,n_sqrt))"
   ]
  },
  {
   "cell_type": "code",
   "execution_count": 31,
   "id": "47ee5bd7",
   "metadata": {},
   "outputs": [
    {
     "name": "stdout",
     "output_type": "stream",
     "text": [
      "enter value of x:7\n",
      "enter value of y:8\n",
      "they are unequal\n",
      "they are unequal\n",
      "they are unequal\n",
      "they are unequal\n",
      "they are unequal\n",
      "they are unequal\n",
      "they are unequal\n",
      "they are unequal\n",
      "they are equal\n",
      "they are unequal\n"
     ]
    }
   ],
   "source": [
    "#2\n",
    "X= int(input(\"enter value of x:\"))\n",
    "y=int(input(\"enter value of y:\"))\n",
    "for x in range(0,10):\n",
    "    if x==y:\n",
    "        print(\"they are equal\")\n",
    "    else: \n",
    "        print(\"they are unequal\")\n",
    "\n"
   ]
  },
  {
   "cell_type": "code",
   "execution_count": 25,
   "id": "cf5b83bd",
   "metadata": {},
   "outputs": [
    {
     "name": "stdout",
     "output_type": "stream",
     "text": [
      "0\n"
     ]
    }
   ],
   "source": [
    "#3.\n",
    "A, b = 0, 0\n",
    "if A == b:\n",
    "    c = A + b\n",
    "print(c)"
   ]
  },
  {
   "cell_type": "code",
   "execution_count": null,
   "id": "58197ed3",
   "metadata": {},
   "outputs": [],
   "source": [
    "#4.\n",
    "Fee = 250\n",
    "i=0\n",
    "while Fee <=2000:\n",
    "    if Fee<= 750:\n",
    "        print(Fee)\n",
    "    else:\n",
    "        print(\"Fee\"*i)\n",
    "        i = i+1\n",
    "        Fee   = Fee+250\n",
    "\n"
   ]
  },
  {
   "cell_type": "code",
   "execution_count": 2,
   "id": "960a2f27",
   "metadata": {},
   "outputs": [
    {
     "name": "stdout",
     "output_type": "stream",
     "text": [
      "1\n",
      "0\n",
      "3\n",
      "2\n",
      "5\n",
      "4\n",
      "7\n",
      "6\n",
      "9\n",
      "8\n"
     ]
    }
   ],
   "source": [
    "#5.\n",
    "step=10\n",
    "for e in range(0,step):\n",
    "    if e %2 == 0:\n",
    "        print(e+1)\n",
    "    else:\n",
    "        print(e-1)"
   ]
  },
  {
   "cell_type": "code",
   "execution_count": 24,
   "id": "d546937a",
   "metadata": {},
   "outputs": [
    {
     "name": "stdout",
     "output_type": "stream",
     "text": [
      "come t\n",
      "ome t\n",
      "me t\n",
      "e t\n",
      " t\n",
      "t\n"
     ]
    }
   ],
   "source": [
    "#6\n",
    "Str = \"welcome to symbiosis\"\n",
    "for s in range(3, 9):\n",
    "    print(Str[s:9])"
   ]
  },
  {
   "cell_type": "code",
   "execution_count": 13,
   "id": "50a91a30",
   "metadata": {},
   "outputs": [],
   "source": [
    "#7.\n",
    "def title():\n",
    "    for i in range(2,5):\n",
    "        for i in range(1,10):\n",
    "            if i <=5:\n",
    "                print('hello all')\n"
   ]
  },
  {
   "cell_type": "code",
   "execution_count": 16,
   "id": "01f42d7f",
   "metadata": {},
   "outputs": [
    {
     "name": "stdout",
     "output_type": "stream",
     "text": [
      "A\n",
      "A\n",
      "A\n",
      "A\n",
      "A\n",
      "A\n",
      "A\n",
      "A\n"
     ]
    }
   ],
   "source": [
    "#8.\n",
    "L = [1,2,3,4,5,6,'e','f']\n",
    "for i in L:\n",
    "    if i =='a': \n",
    "        break\n",
    "    else:\n",
    "        print(\"A\")"
   ]
  },
  {
   "cell_type": "code",
   "execution_count": 28,
   "id": "0af5074e",
   "metadata": {},
   "outputs": [
    {
     "name": "stdout",
     "output_type": "stream",
     "text": [
      "6\n"
     ]
    }
   ],
   "source": [
    "#9\n",
    "a = {6:\"anu\",7:\"sumit\",5: \"me\"}\n",
    "for i in a:\n",
    "    if int(i)%3==0:\n",
    "        print(i)"
   ]
  },
  {
   "cell_type": "code",
   "execution_count": 22,
   "id": "7d295e9a",
   "metadata": {},
   "outputs": [
    {
     "name": "stdout",
     "output_type": "stream",
     "text": [
      "notmaiden\n",
      "notmaiden\n",
      "notmaiden\n",
      "notmaiden\n",
      "maiden\n",
      "notmaiden\n"
     ]
    }
   ],
   "source": [
    "#10\n",
    "Runs = (1,6,7,8,0,99)\n",
    "for i in Runs:\n",
    "    if i == 0:\n",
    "        print('maiden')\n",
    "    else:\n",
    "        print('notmaiden')\n",
    "\n"
   ]
  },
  {
   "cell_type": "code",
   "execution_count": 4,
   "id": "ef9e412b",
   "metadata": {},
   "outputs": [
    {
     "name": "stdout",
     "output_type": "stream",
     "text": [
      "enter the stringaerrfshjj\n"
     ]
    },
    {
     "data": {
      "text/plain": [
       "{'a': 1, 'e': 1, 'r': 1, 'f': 1, 's': 1, 'h': 1, 'j': 1}"
      ]
     },
     "execution_count": 4,
     "metadata": {},
     "output_type": "execute_result"
    }
   ],
   "source": [
    "#1.WAP to print the position or index of a given string (taken as input from a user) from a given list of strings.\n",
    "a=str(input(\"enter the string\"))\n",
    "a=list(a)\n",
    "c={i:len(i) for i in a}\n",
    "c"
   ]
  },
  {
   "cell_type": "code",
   "execution_count": 12,
   "id": "c5cc590d",
   "metadata": {},
   "outputs": [
    {
     "name": "stdout",
     "output_type": "stream",
     "text": [
      "{'hellow': 2, 'world': 1}\n"
     ]
    }
   ],
   "source": [
    "#2.. Create a function count_words() which takes a string as input and creates a dictionary with a word in the string as a key and its value as the number of times the word is repeated in the string. It should return the dictionary.\n",
    "def count_words(input_string):\n",
    "    word_count = {}\n",
    "    words = input_string.split()\n",
    "    for word in words:\n",
    "        word = word.strip().lower()\n",
    "        word_count[word] = word_count.get(word, 0) + 1\n",
    "    return word_count\n",
    "\n",
    "input_string = \"Hellow world Hellow\"\n",
    "result = count_words(input_string)\n",
    "print(result)"
   ]
  },
  {
   "cell_type": "code",
   "execution_count": 10,
   "id": "a9f33a33",
   "metadata": {},
   "outputs": [
    {
     "name": "stdout",
     "output_type": "stream",
     "text": [
      "samsung\n",
      "pr\n",
      "sdd\n",
      "blue\n",
      "6mpxl\n"
     ]
    }
   ],
   "source": [
    "#3. Write a Python program to create a class called mobile which contains a method called display which displays the name of the mobile owner, mobile brand, colour and camera pixel\n",
    "class mobile:\n",
    "    def __init__(self,mobilename,mobileowner,mobilebrand,color,camera):\n",
    "        self.mobilename=mobilename\n",
    "        self.mobileowner=mobileowner\n",
    "        self.mobilebrand=mobilebrand\n",
    "        self.color=color\n",
    "        self.camera=camera\n",
    "\n",
    "mobile1=mobile(\"samsung\",\"pr\",\"sdd\",\"blue\",\"6mpxl\")\n",
    "\n",
    "print(mobile1.mobilename)\n",
    "print(mobile1.mobileowner)\n",
    "print(mobile1.mobilebrand)\n",
    "print(mobile1.color)\n",
    "print(mobile1.camera)"
   ]
  },
  {
   "cell_type": "code",
   "execution_count": 29,
   "id": "bdd46df8",
   "metadata": {},
   "outputs": [
    {
     "name": "stdout",
     "output_type": "stream",
     "text": [
      "['A', 'L', 'L', ' ', 'I', 'S', ' ', 'W', 'E', 'L', 'L']\n"
     ]
    }
   ],
   "source": [
    "#4.str1=\"ALL IS WELL\"\n",
    "#Write a code snippet to convert a string to a list.\n",
    "str1=\"ALL IS WELL\"\n",
    "a=list(str1)\n",
    "print(a)\n",
    "\n"
   ]
  },
  {
   "cell_type": "code",
   "execution_count": 2,
   "id": "e8875fef",
   "metadata": {},
   "outputs": [
    {
     "name": "stdout",
     "output_type": "stream",
     "text": [
      "[1, 4, 9, 16, 25]\n"
     ]
    }
   ],
   "source": [
    "#5. Write a code snippet to generate the square of every element of a list.\n",
    "original_list = [1, 2, 3, 4, 5]\n",
    "squares_list = [x ** 2 for x in original_list]\n",
    "print(squares_list)"
   ]
  },
  {
   "cell_type": "code",
   "execution_count": null,
   "id": "28cec068",
   "metadata": {},
   "outputs": [],
   "source": []
  },
  {
   "cell_type": "code",
   "execution_count": null,
   "id": "e4756921",
   "metadata": {},
   "outputs": [],
   "source": []
  },
  {
   "cell_type": "code",
   "execution_count": null,
   "id": "87e985d5",
   "metadata": {},
   "outputs": [],
   "source": []
  },
  {
   "cell_type": "code",
   "execution_count": null,
   "id": "be1b20f5",
   "metadata": {},
   "outputs": [],
   "source": []
  }
 ],
 "metadata": {
  "kernelspec": {
   "display_name": "Python 3 (ipykernel)",
   "language": "python",
   "name": "python3"
  },
  "language_info": {
   "codemirror_mode": {
    "name": "ipython",
    "version": 3
   },
   "file_extension": ".py",
   "mimetype": "text/x-python",
   "name": "python",
   "nbconvert_exporter": "python",
   "pygments_lexer": "ipython3",
   "version": "3.9.13"
  }
 },
 "nbformat": 4,
 "nbformat_minor": 5
}
